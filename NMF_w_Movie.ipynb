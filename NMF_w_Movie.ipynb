{
 "cells": [
  {
   "cell_type": "code",
   "execution_count": 11,
   "id": "4f834a26-3a9e-483d-8d3b-906e631cc5b8",
   "metadata": {},
   "outputs": [],
   "source": [
    "import pandas as pd\n",
    "import numpy as np\n",
    "from math import sqrt\n",
    "from scipy.sparse import coo_matrix\n",
    "from collections import namedtuple\n",
    "from sklearn.decomposition import NMF\n",
    "from sklearn.metrics import mean_squared_error\n",
    "\n",
    "MV_users = pd.read_csv('./data/users.csv')\n",
    "MV_movies = pd.read_csv('./data/movies.csv')\n",
    "train = pd.read_csv('./data/train.csv')\n",
    "test = pd.read_csv('./data/test.csv')\n",
    "\n",
    "Data = namedtuple('Data', ['users','movies','train','test'])\n",
    "data = Data(MV_users, MV_movies, train, test)"
   ]
  },
  {
   "cell_type": "code",
   "execution_count": 12,
   "id": "427fc7ae-d006-4f0c-af8e-1644f81ca6d4",
   "metadata": {},
   "outputs": [],
   "source": [
    "# prepare the data for NMF processing\n",
    "user_list = list(data.users['uID'])\n",
    "movie_list = list(data.movies['mID'])\n",
    "genres = list(data.movies.columns.drop(['mID', 'title', 'year']))\n",
    "# Create a dictionary to map user/movie ID to index\n",
    "mid2idx = dict(zip(data.movies.mID, list(range(len(data.movies)))))\n",
    "uid2idx = dict(zip(data.users.uID, list(range(len(data.users)))))\n",
    "\n",
    "# Create a rating matrix using the train data in a sparse matrix format\n",
    "ind_movie = [mid2idx[x] for x in data.train.mID]\n",
    "ind_user = [uid2idx[x] for x in data.train.uID]\n",
    "train_rating = list(data.train.rating)\n",
    "rating_matrix = np.array(coo_matrix((train_rating, (ind_user, ind_movie)), shape=(len(user_list), len(movie_list))).toarray())"
   ]
  },
  {
   "cell_type": "code",
   "execution_count": 13,
   "id": "7604c39c-b1c1-4c06-8b55-b87924ddc8d9",
   "metadata": {},
   "outputs": [],
   "source": [
    "nmf_model = NMF(n_components=20, init='random', random_state=0, max_iter=1000)\n",
    "W = nmf_model.fit_transform(rating_matrix)\n",
    "H = nmf_model.components_"
   ]
  },
  {
   "cell_type": "code",
   "execution_count": 15,
   "id": "39e0bde9-0a53-40cc-a9ef-930aa6b336f2",
   "metadata": {},
   "outputs": [
    {
     "name": "stdout",
     "output_type": "stream",
     "text": [
      "RMSE value is:  2.861970909347182\n"
     ]
    }
   ],
   "source": [
    "# make predictions\n",
    "pred = np.dot(W, H)\n",
    "rating_pred_test = pred[[uid2idx[x] for x in data.test.uID], [mid2idx[x] for x in data.test.mID]]\n",
    "\n",
    "# calculate RMSE\n",
    "rmse = np.sqrt(mean_squared_error(list(data.test.rating), rating_pred_test))\n",
    "print('RMSE value is: ', rmse)"
   ]
  },
  {
   "cell_type": "markdown",
   "id": "bac4150f-e4ba-4a2b-8b18-6351d43ad6bc",
   "metadata": {},
   "source": [
    "Summary:\n",
    "* The result of the non-negative matrix factorization (NMF) using sklearn performed significantly worse than the baseline, content based, and collaborative methods. The resulting RMSE was 2.86.\n",
    "* The poor performance can be caused by NMF's random initialization, the latent factors that we chose for NMF, and also the sparsity nature of the movie data, since NMF is extremely sensitive to sparsity.\n",
    "* Also, NMF performance suffers because it gives unknown ratings as zeroes, consequently leading to wrong updates during the training. The zeroes could be misleading as false negatives.\n",
    "\n",
    "Some fixes to consider:\n",
    "* We could give default values to unknown ratings before applying the NMF or have the loss function to ignore the unknown ratings.\n",
    "* Use hyperparameter tuning to tune NMF for optimization.\n",
    "* Try some hybrid approaches such as combining NMF with content/collaborative methods to improve results."
   ]
  }
 ],
 "metadata": {
  "kernelspec": {
   "display_name": "Python 3 (ipykernel)",
   "language": "python",
   "name": "python3"
  },
  "language_info": {
   "codemirror_mode": {
    "name": "ipython",
    "version": 3
   },
   "file_extension": ".py",
   "mimetype": "text/x-python",
   "name": "python",
   "nbconvert_exporter": "python",
   "pygments_lexer": "ipython3",
   "version": "3.10.10"
  }
 },
 "nbformat": 4,
 "nbformat_minor": 5
}
